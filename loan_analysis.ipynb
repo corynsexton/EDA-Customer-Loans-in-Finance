{
 "cells": [
  {
   "cell_type": "markdown",
   "metadata": {},
   "source": [
    "# Data Analysis"
   ]
  },
  {
   "cell_type": "code",
   "execution_count": 1,
   "metadata": {},
   "outputs": [],
   "source": [
    "from db_utils import DataTransform, Plotter\n",
    "import matplotlib.pyplot as plt\n",
    "import numpy as np\n",
    "import seaborn as sns\n",
    "from pandas.tseries.offsets import DateOffset\n",
    "\n",
    "dt = DataTransform()\n",
    "visualise = Plotter()\n",
    "\n",
    "df = dt.read_data('cleaned_loan_data.csv')"
   ]
  },
  {
   "cell_type": "markdown",
   "metadata": {},
   "source": [
    "## 1. Current State of Loans\n",
    "\n",
    "Summarise what percentage of the loans are paid back compared to the total payment expected with interest."
   ]
  },
  {
   "cell_type": "code",
   "execution_count": 2,
   "metadata": {},
   "outputs": [
    {
     "ename": "TypeError",
     "evalue": "can only concatenate str (not \"DateOffset\") to str",
     "output_type": "error",
     "traceback": [
      "\u001b[0;31m---------------------------------------------------------------------------\u001b[0m",
      "\u001b[0;31mTypeError\u001b[0m                                 Traceback (most recent call last)",
      "Cell \u001b[0;32mIn[2], line 5\u001b[0m\n\u001b[1;32m      1\u001b[0m df[\u001b[38;5;124m'\u001b[39m\u001b[38;5;124mtotal_payment_exp\u001b[39m\u001b[38;5;124m'\u001b[39m] \u001b[38;5;241m=\u001b[39m df[\u001b[38;5;124m'\u001b[39m\u001b[38;5;124minstalment\u001b[39m\u001b[38;5;124m'\u001b[39m] \u001b[38;5;241m*\u001b[39m df[\u001b[38;5;124m'\u001b[39m\u001b[38;5;124mterm_(months)\u001b[39m\u001b[38;5;124m'\u001b[39m]\n\u001b[1;32m      3\u001b[0m df[\u001b[38;5;124m'\u001b[39m\u001b[38;5;124mpercentage_rec\u001b[39m\u001b[38;5;124m'\u001b[39m] \u001b[38;5;241m=\u001b[39m \u001b[38;5;28mround\u001b[39m(df[\u001b[38;5;124m'\u001b[39m\u001b[38;5;124mtotal_payment\u001b[39m\u001b[38;5;124m'\u001b[39m] \u001b[38;5;241m/\u001b[39m df[\u001b[38;5;124m'\u001b[39m\u001b[38;5;124mtotal_payment_exp\u001b[39m\u001b[38;5;124m'\u001b[39m] \u001b[38;5;241m*\u001b[39m \u001b[38;5;241m100\u001b[39m, \u001b[38;5;241m2\u001b[39m) \n\u001b[0;32m----> 5\u001b[0m df[\u001b[38;5;124m'\u001b[39m\u001b[38;5;124mfinal_payment_date\u001b[39m\u001b[38;5;124m'\u001b[39m] \u001b[38;5;241m=\u001b[39m \u001b[43mdf\u001b[49m\u001b[38;5;241;43m.\u001b[39;49m\u001b[43mapply\u001b[49m\u001b[43m(\u001b[49m\u001b[38;5;28;43;01mlambda\u001b[39;49;00m\u001b[43m \u001b[49m\u001b[43mrow\u001b[49m\u001b[43m:\u001b[49m\u001b[43m \u001b[49m\u001b[43mrow\u001b[49m\u001b[43m[\u001b[49m\u001b[38;5;124;43m'\u001b[39;49m\u001b[38;5;124;43missue_date\u001b[39;49m\u001b[38;5;124;43m'\u001b[39;49m\u001b[43m]\u001b[49m\u001b[43m \u001b[49m\u001b[38;5;241;43m+\u001b[39;49m\u001b[43m \u001b[49m\u001b[43mDateOffset\u001b[49m\u001b[43m(\u001b[49m\u001b[43mmonths\u001b[49m\u001b[38;5;241;43m=\u001b[39;49m\u001b[43mrow\u001b[49m\u001b[43m[\u001b[49m\u001b[38;5;124;43m'\u001b[39;49m\u001b[38;5;124;43mterm_(months)\u001b[39;49m\u001b[38;5;124;43m'\u001b[39;49m\u001b[43m]\u001b[49m\u001b[43m)\u001b[49m\u001b[43m,\u001b[49m\u001b[43m \u001b[49m\u001b[43maxis\u001b[49m\u001b[38;5;241;43m=\u001b[39;49m\u001b[38;5;241;43m1\u001b[39;49m\u001b[43m)\u001b[49m\n\u001b[1;32m      7\u001b[0m df[\u001b[38;5;124m'\u001b[39m\u001b[38;5;124mterm_remaining\u001b[39m\u001b[38;5;124m'\u001b[39m] \u001b[38;5;241m=\u001b[39m ((df[\u001b[38;5;124m'\u001b[39m\u001b[38;5;124mfinal_payment_date\u001b[39m\u001b[38;5;124m'\u001b[39m] \u001b[38;5;241m-\u001b[39m df[\u001b[38;5;124m'\u001b[39m\u001b[38;5;124mlast_payment_date\u001b[39m\u001b[38;5;124m'\u001b[39m])\u001b[38;5;241m.\u001b[39mdt\u001b[38;5;241m.\u001b[39mdays \u001b[38;5;241m/\u001b[39m \u001b[38;5;241m30\u001b[39m)\u001b[38;5;241m.\u001b[39mastype(\u001b[38;5;28mint\u001b[39m)\n\u001b[1;32m      9\u001b[0m df[\u001b[38;5;124m'\u001b[39m\u001b[38;5;124mtotal_remaining\u001b[39m\u001b[38;5;124m'\u001b[39m] \u001b[38;5;241m=\u001b[39m df[\u001b[38;5;124m'\u001b[39m\u001b[38;5;124mtotal_payment_exp\u001b[39m\u001b[38;5;124m'\u001b[39m] \u001b[38;5;241m-\u001b[39m df[\u001b[38;5;124m'\u001b[39m\u001b[38;5;124mtotal_payment\u001b[39m\u001b[38;5;124m'\u001b[39m]\n",
      "File \u001b[0;32m~/miniforge3/envs/postgres_env/lib/python3.10/site-packages/pandas/core/frame.py:9568\u001b[0m, in \u001b[0;36mDataFrame.apply\u001b[0;34m(self, func, axis, raw, result_type, args, **kwargs)\u001b[0m\n\u001b[1;32m   9557\u001b[0m \u001b[38;5;28;01mfrom\u001b[39;00m \u001b[38;5;21;01mpandas\u001b[39;00m\u001b[38;5;21;01m.\u001b[39;00m\u001b[38;5;21;01mcore\u001b[39;00m\u001b[38;5;21;01m.\u001b[39;00m\u001b[38;5;21;01mapply\u001b[39;00m \u001b[38;5;28;01mimport\u001b[39;00m frame_apply\n\u001b[1;32m   9559\u001b[0m op \u001b[38;5;241m=\u001b[39m frame_apply(\n\u001b[1;32m   9560\u001b[0m     \u001b[38;5;28mself\u001b[39m,\n\u001b[1;32m   9561\u001b[0m     func\u001b[38;5;241m=\u001b[39mfunc,\n\u001b[0;32m   (...)\u001b[0m\n\u001b[1;32m   9566\u001b[0m     kwargs\u001b[38;5;241m=\u001b[39mkwargs,\n\u001b[1;32m   9567\u001b[0m )\n\u001b[0;32m-> 9568\u001b[0m \u001b[38;5;28;01mreturn\u001b[39;00m \u001b[43mop\u001b[49m\u001b[38;5;241;43m.\u001b[39;49m\u001b[43mapply\u001b[49m\u001b[43m(\u001b[49m\u001b[43m)\u001b[49m\u001b[38;5;241m.\u001b[39m__finalize__(\u001b[38;5;28mself\u001b[39m, method\u001b[38;5;241m=\u001b[39m\u001b[38;5;124m\"\u001b[39m\u001b[38;5;124mapply\u001b[39m\u001b[38;5;124m\"\u001b[39m)\n",
      "File \u001b[0;32m~/miniforge3/envs/postgres_env/lib/python3.10/site-packages/pandas/core/apply.py:764\u001b[0m, in \u001b[0;36mFrameApply.apply\u001b[0;34m(self)\u001b[0m\n\u001b[1;32m    761\u001b[0m \u001b[38;5;28;01melif\u001b[39;00m \u001b[38;5;28mself\u001b[39m\u001b[38;5;241m.\u001b[39mraw:\n\u001b[1;32m    762\u001b[0m     \u001b[38;5;28;01mreturn\u001b[39;00m \u001b[38;5;28mself\u001b[39m\u001b[38;5;241m.\u001b[39mapply_raw()\n\u001b[0;32m--> 764\u001b[0m \u001b[38;5;28;01mreturn\u001b[39;00m \u001b[38;5;28;43mself\u001b[39;49m\u001b[38;5;241;43m.\u001b[39;49m\u001b[43mapply_standard\u001b[49m\u001b[43m(\u001b[49m\u001b[43m)\u001b[49m\n",
      "File \u001b[0;32m~/miniforge3/envs/postgres_env/lib/python3.10/site-packages/pandas/core/apply.py:891\u001b[0m, in \u001b[0;36mFrameApply.apply_standard\u001b[0;34m(self)\u001b[0m\n\u001b[1;32m    890\u001b[0m \u001b[38;5;28;01mdef\u001b[39;00m \u001b[38;5;21mapply_standard\u001b[39m(\u001b[38;5;28mself\u001b[39m):\n\u001b[0;32m--> 891\u001b[0m     results, res_index \u001b[38;5;241m=\u001b[39m \u001b[38;5;28;43mself\u001b[39;49m\u001b[38;5;241;43m.\u001b[39;49m\u001b[43mapply_series_generator\u001b[49m\u001b[43m(\u001b[49m\u001b[43m)\u001b[49m\n\u001b[1;32m    893\u001b[0m     \u001b[38;5;66;03m# wrap results\u001b[39;00m\n\u001b[1;32m    894\u001b[0m     \u001b[38;5;28;01mreturn\u001b[39;00m \u001b[38;5;28mself\u001b[39m\u001b[38;5;241m.\u001b[39mwrap_results(results, res_index)\n",
      "File \u001b[0;32m~/miniforge3/envs/postgres_env/lib/python3.10/site-packages/pandas/core/apply.py:907\u001b[0m, in \u001b[0;36mFrameApply.apply_series_generator\u001b[0;34m(self)\u001b[0m\n\u001b[1;32m    904\u001b[0m \u001b[38;5;28;01mwith\u001b[39;00m option_context(\u001b[38;5;124m\"\u001b[39m\u001b[38;5;124mmode.chained_assignment\u001b[39m\u001b[38;5;124m\"\u001b[39m, \u001b[38;5;28;01mNone\u001b[39;00m):\n\u001b[1;32m    905\u001b[0m     \u001b[38;5;28;01mfor\u001b[39;00m i, v \u001b[38;5;129;01min\u001b[39;00m \u001b[38;5;28menumerate\u001b[39m(series_gen):\n\u001b[1;32m    906\u001b[0m         \u001b[38;5;66;03m# ignore SettingWithCopy here in case the user mutates\u001b[39;00m\n\u001b[0;32m--> 907\u001b[0m         results[i] \u001b[38;5;241m=\u001b[39m \u001b[38;5;28;43mself\u001b[39;49m\u001b[38;5;241;43m.\u001b[39;49m\u001b[43mf\u001b[49m\u001b[43m(\u001b[49m\u001b[43mv\u001b[49m\u001b[43m)\u001b[49m\n\u001b[1;32m    908\u001b[0m         \u001b[38;5;28;01mif\u001b[39;00m \u001b[38;5;28misinstance\u001b[39m(results[i], ABCSeries):\n\u001b[1;32m    909\u001b[0m             \u001b[38;5;66;03m# If we have a view on v, we need to make a copy because\u001b[39;00m\n\u001b[1;32m    910\u001b[0m             \u001b[38;5;66;03m#  series_generator will swap out the underlying data\u001b[39;00m\n\u001b[1;32m    911\u001b[0m             results[i] \u001b[38;5;241m=\u001b[39m results[i]\u001b[38;5;241m.\u001b[39mcopy(deep\u001b[38;5;241m=\u001b[39m\u001b[38;5;28;01mFalse\u001b[39;00m)\n",
      "Cell \u001b[0;32mIn[2], line 5\u001b[0m, in \u001b[0;36m<lambda>\u001b[0;34m(row)\u001b[0m\n\u001b[1;32m      1\u001b[0m df[\u001b[38;5;124m'\u001b[39m\u001b[38;5;124mtotal_payment_exp\u001b[39m\u001b[38;5;124m'\u001b[39m] \u001b[38;5;241m=\u001b[39m df[\u001b[38;5;124m'\u001b[39m\u001b[38;5;124minstalment\u001b[39m\u001b[38;5;124m'\u001b[39m] \u001b[38;5;241m*\u001b[39m df[\u001b[38;5;124m'\u001b[39m\u001b[38;5;124mterm_(months)\u001b[39m\u001b[38;5;124m'\u001b[39m]\n\u001b[1;32m      3\u001b[0m df[\u001b[38;5;124m'\u001b[39m\u001b[38;5;124mpercentage_rec\u001b[39m\u001b[38;5;124m'\u001b[39m] \u001b[38;5;241m=\u001b[39m \u001b[38;5;28mround\u001b[39m(df[\u001b[38;5;124m'\u001b[39m\u001b[38;5;124mtotal_payment\u001b[39m\u001b[38;5;124m'\u001b[39m] \u001b[38;5;241m/\u001b[39m df[\u001b[38;5;124m'\u001b[39m\u001b[38;5;124mtotal_payment_exp\u001b[39m\u001b[38;5;124m'\u001b[39m] \u001b[38;5;241m*\u001b[39m \u001b[38;5;241m100\u001b[39m, \u001b[38;5;241m2\u001b[39m) \n\u001b[0;32m----> 5\u001b[0m df[\u001b[38;5;124m'\u001b[39m\u001b[38;5;124mfinal_payment_date\u001b[39m\u001b[38;5;124m'\u001b[39m] \u001b[38;5;241m=\u001b[39m df\u001b[38;5;241m.\u001b[39mapply(\u001b[38;5;28;01mlambda\u001b[39;00m row: \u001b[43mrow\u001b[49m\u001b[43m[\u001b[49m\u001b[38;5;124;43m'\u001b[39;49m\u001b[38;5;124;43missue_date\u001b[39;49m\u001b[38;5;124;43m'\u001b[39;49m\u001b[43m]\u001b[49m\u001b[43m \u001b[49m\u001b[38;5;241;43m+\u001b[39;49m\u001b[43m \u001b[49m\u001b[43mDateOffset\u001b[49m\u001b[43m(\u001b[49m\u001b[43mmonths\u001b[49m\u001b[38;5;241;43m=\u001b[39;49m\u001b[43mrow\u001b[49m\u001b[43m[\u001b[49m\u001b[38;5;124;43m'\u001b[39;49m\u001b[38;5;124;43mterm_(months)\u001b[39;49m\u001b[38;5;124;43m'\u001b[39;49m\u001b[43m]\u001b[49m\u001b[43m)\u001b[49m, axis\u001b[38;5;241m=\u001b[39m\u001b[38;5;241m1\u001b[39m)\n\u001b[1;32m      7\u001b[0m df[\u001b[38;5;124m'\u001b[39m\u001b[38;5;124mterm_remaining\u001b[39m\u001b[38;5;124m'\u001b[39m] \u001b[38;5;241m=\u001b[39m ((df[\u001b[38;5;124m'\u001b[39m\u001b[38;5;124mfinal_payment_date\u001b[39m\u001b[38;5;124m'\u001b[39m] \u001b[38;5;241m-\u001b[39m df[\u001b[38;5;124m'\u001b[39m\u001b[38;5;124mlast_payment_date\u001b[39m\u001b[38;5;124m'\u001b[39m])\u001b[38;5;241m.\u001b[39mdt\u001b[38;5;241m.\u001b[39mdays \u001b[38;5;241m/\u001b[39m \u001b[38;5;241m30\u001b[39m)\u001b[38;5;241m.\u001b[39mastype(\u001b[38;5;28mint\u001b[39m)\n\u001b[1;32m      9\u001b[0m df[\u001b[38;5;124m'\u001b[39m\u001b[38;5;124mtotal_remaining\u001b[39m\u001b[38;5;124m'\u001b[39m] \u001b[38;5;241m=\u001b[39m df[\u001b[38;5;124m'\u001b[39m\u001b[38;5;124mtotal_payment_exp\u001b[39m\u001b[38;5;124m'\u001b[39m] \u001b[38;5;241m-\u001b[39m df[\u001b[38;5;124m'\u001b[39m\u001b[38;5;124mtotal_payment\u001b[39m\u001b[38;5;124m'\u001b[39m]\n",
      "\u001b[0;31mTypeError\u001b[0m: can only concatenate str (not \"DateOffset\") to str"
     ]
    }
   ],
   "source": [
    "df['total_payment_exp'] = df['instalment'] * df['term_(months)']\n",
    "\n",
    "df['percentage_rec'] = round(df['total_payment'] / df['total_payment_exp'] * 100, 2) \n",
    "\n",
    "df['final_payment_date'] = df.apply(lambda row: row['issue_date'] + DateOffset(months=row['term_(months)']), axis=1)\n",
    "\n",
    "df['term_remaining'] = ((df['final_payment_date'] - df['last_payment_date']).dt.days / 30).astype(int)\n",
    "\n",
    "df['total_remaining'] = df['total_payment_exp'] - df['total_payment']\n",
    "\n",
    "task1_df = df[['loan_amount', 'term_(months)', 'instalment', 'total_payment', 'total_rec_int', 'total_payment_exp', 'issue_date', 'last_payment_date', 'final_payment_date', 'percentage_rec', 'months_remaining', 'total_remaining', 'term_remaining']].copy()\n",
    "\n",
    "task1_df.head()"
   ]
  },
  {
   "cell_type": "code",
   "execution_count": null,
   "metadata": {},
   "outputs": [
    {
     "name": "stdout",
     "output_type": "stream",
     "text": [
      "Total payments paid back: 654923855.12\n",
      "Total payments expected: 926663991.36\n",
      "Percentage paid back: 70.68%\n"
     ]
    }
   ],
   "source": [
    "total_payments_paid_back = task1_df['total_payment'].sum()\n",
    "print(f'Total payments paid back: {total_payments_paid_back:.2f}')\n",
    "\n",
    "total_payments_expected = task1_df['total_payment_exp'].sum()\n",
    "print(f'Total payments expected: {total_payments_expected:.2f}')\n",
    "\n",
    "percentage_paid_back = round(total_payments_paid_back / total_payments_expected * 100, 2)\n",
    "print(f'Percentage paid back: {percentage_paid_back}%')"
   ]
  },
  {
   "cell_type": "markdown",
   "metadata": {},
   "source": [
    "### Prediction of payments made in 6 months time"
   ]
  },
  {
   "cell_type": "code",
   "execution_count": null,
   "metadata": {},
   "outputs": [
    {
     "data": {
      "text/html": [
       "<div>\n",
       "<style scoped>\n",
       "    .dataframe tbody tr th:only-of-type {\n",
       "        vertical-align: middle;\n",
       "    }\n",
       "\n",
       "    .dataframe tbody tr th {\n",
       "        vertical-align: top;\n",
       "    }\n",
       "\n",
       "    .dataframe thead th {\n",
       "        text-align: right;\n",
       "    }\n",
       "</style>\n",
       "<table border=\"1\" class=\"dataframe\">\n",
       "  <thead>\n",
       "    <tr style=\"text-align: right;\">\n",
       "      <th></th>\n",
       "      <th>loan_amount</th>\n",
       "      <th>term_(months)</th>\n",
       "      <th>instalment</th>\n",
       "      <th>total_payment</th>\n",
       "      <th>total_rec_int</th>\n",
       "      <th>total_payment_exp</th>\n",
       "      <th>issue_date</th>\n",
       "      <th>last_payment_date</th>\n",
       "      <th>final_payment_date</th>\n",
       "      <th>percentage_rec</th>\n",
       "      <th>months_remaining</th>\n",
       "      <th>total_remaining</th>\n",
       "      <th>term_remaining</th>\n",
       "      <th>next_6mths</th>\n",
       "    </tr>\n",
       "  </thead>\n",
       "  <tbody>\n",
       "    <tr>\n",
       "      <th>0</th>\n",
       "      <td>8000.0</td>\n",
       "      <td>36</td>\n",
       "      <td>248.82</td>\n",
       "      <td>2982.51</td>\n",
       "      <td>512.21</td>\n",
       "      <td>8957.52</td>\n",
       "      <td>2021-01-01</td>\n",
       "      <td>2022-01-01</td>\n",
       "      <td>2024-01-01</td>\n",
       "      <td>33.30</td>\n",
       "      <td>24</td>\n",
       "      <td>5975.01</td>\n",
       "      <td>24</td>\n",
       "      <td>1492.92</td>\n",
       "    </tr>\n",
       "    <tr>\n",
       "      <th>1</th>\n",
       "      <td>13200.0</td>\n",
       "      <td>36</td>\n",
       "      <td>407.52</td>\n",
       "      <td>4885.11</td>\n",
       "      <td>787.94</td>\n",
       "      <td>14670.72</td>\n",
       "      <td>2021-01-01</td>\n",
       "      <td>2022-01-01</td>\n",
       "      <td>2024-01-01</td>\n",
       "      <td>33.30</td>\n",
       "      <td>24</td>\n",
       "      <td>9785.61</td>\n",
       "      <td>24</td>\n",
       "      <td>2445.12</td>\n",
       "    </tr>\n",
       "    <tr>\n",
       "      <th>2</th>\n",
       "      <td>16000.0</td>\n",
       "      <td>36</td>\n",
       "      <td>497.63</td>\n",
       "      <td>16824.54</td>\n",
       "      <td>824.54</td>\n",
       "      <td>17914.68</td>\n",
       "      <td>2021-01-01</td>\n",
       "      <td>2021-10-01</td>\n",
       "      <td>2024-01-01</td>\n",
       "      <td>93.91</td>\n",
       "      <td>27</td>\n",
       "      <td>1090.14</td>\n",
       "      <td>27</td>\n",
       "      <td>2985.78</td>\n",
       "    </tr>\n",
       "    <tr>\n",
       "      <th>3</th>\n",
       "      <td>15000.0</td>\n",
       "      <td>36</td>\n",
       "      <td>514.93</td>\n",
       "      <td>15947.47</td>\n",
       "      <td>947.47</td>\n",
       "      <td>18537.48</td>\n",
       "      <td>2021-01-01</td>\n",
       "      <td>2021-06-01</td>\n",
       "      <td>2024-01-01</td>\n",
       "      <td>86.03</td>\n",
       "      <td>31</td>\n",
       "      <td>2590.01</td>\n",
       "      <td>31</td>\n",
       "      <td>3089.58</td>\n",
       "    </tr>\n",
       "    <tr>\n",
       "      <th>4</th>\n",
       "      <td>15000.0</td>\n",
       "      <td>36</td>\n",
       "      <td>456.54</td>\n",
       "      <td>5473.46</td>\n",
       "      <td>770.93</td>\n",
       "      <td>16435.44</td>\n",
       "      <td>2021-01-01</td>\n",
       "      <td>2022-01-01</td>\n",
       "      <td>2024-01-01</td>\n",
       "      <td>33.30</td>\n",
       "      <td>24</td>\n",
       "      <td>10961.98</td>\n",
       "      <td>24</td>\n",
       "      <td>2739.24</td>\n",
       "    </tr>\n",
       "  </tbody>\n",
       "</table>\n",
       "</div>"
      ],
      "text/plain": [
       "   loan_amount  term_(months)  instalment  total_payment  total_rec_int  \\\n",
       "0       8000.0             36      248.82        2982.51         512.21   \n",
       "1      13200.0             36      407.52        4885.11         787.94   \n",
       "2      16000.0             36      497.63       16824.54         824.54   \n",
       "3      15000.0             36      514.93       15947.47         947.47   \n",
       "4      15000.0             36      456.54        5473.46         770.93   \n",
       "\n",
       "   total_payment_exp issue_date last_payment_date final_payment_date  \\\n",
       "0            8957.52 2021-01-01        2022-01-01         2024-01-01   \n",
       "1           14670.72 2021-01-01        2022-01-01         2024-01-01   \n",
       "2           17914.68 2021-01-01        2021-10-01         2024-01-01   \n",
       "3           18537.48 2021-01-01        2021-06-01         2024-01-01   \n",
       "4           16435.44 2021-01-01        2022-01-01         2024-01-01   \n",
       "\n",
       "   percentage_rec  months_remaining  total_remaining  term_remaining  \\\n",
       "0           33.30                24          5975.01              24   \n",
       "1           33.30                24          9785.61              24   \n",
       "2           93.91                27          1090.14              27   \n",
       "3           86.03                31          2590.01              31   \n",
       "4           33.30                24         10961.98              24   \n",
       "\n",
       "   next_6mths  \n",
       "0     1492.92  \n",
       "1     2445.12  \n",
       "2     2985.78  \n",
       "3     3089.58  \n",
       "4     2739.24  "
      ]
     },
     "execution_count": 153,
     "metadata": {},
     "output_type": "execute_result"
    }
   ],
   "source": [
    "conditions = [\n",
    "    task1_df['term_remaining'] >= 6,\n",
    "    task1_df['term_remaining'] < 6\n",
    "]\n",
    "\n",
    "results = [(task1_df['instalment'] * 6), (task1_df['instalment'] * task1_df['term_remaining']) ]\n",
    "\n",
    "task1_df['next_6mths'] = np.select(conditions, results)\n",
    "\n",
    "task1_df.head()"
   ]
  },
  {
   "cell_type": "code",
   "execution_count": null,
   "metadata": {},
   "outputs": [
    {
     "name": "stdout",
     "output_type": "stream",
     "text": [
      "Total received after 6 months: 740762190.42\n",
      "Percentage paid back after 6 months: 79.94%\n"
     ]
    }
   ],
   "source": [
    "\n",
    "task1_df['total_after_6mths'] = task1_df['next_6mths'] + task1_df['total_payment']\n",
    "\n",
    "conditions = [\n",
    "    task1_df['total_after_6mths'] > task1_df['total_payment_exp'],\n",
    "    task1_df['total_after_6mths'] <= task1_df['total_payment_exp']\n",
    "]\n",
    "\n",
    "results = [(task1_df['total_payment_exp']), task1_df['total_after_6mths']]\n",
    "\n",
    "task1_df['total_after_6mths'] = np.select(conditions, results)\n",
    "\n",
    "total_rec_after_6_months = task1_df['total_after_6mths'].sum()\n",
    "print(f'Total received after 6 months: {total_rec_after_6_months:.2f}')\n",
    "\n",
    "percentage_paid_back_after_6mths = round(total_rec_after_6_months / total_payments_expected * 100, 2)\n",
    "print(f'Percentage paid back after 6 months: {percentage_paid_back_after_6mths}%')"
   ]
  },
  {
   "cell_type": "code",
   "execution_count": null,
   "metadata": {},
   "outputs": [
    {
     "data": {
      "text/html": [
       "<div>\n",
       "<style scoped>\n",
       "    .dataframe tbody tr th:only-of-type {\n",
       "        vertical-align: middle;\n",
       "    }\n",
       "\n",
       "    .dataframe tbody tr th {\n",
       "        vertical-align: top;\n",
       "    }\n",
       "\n",
       "    .dataframe thead th {\n",
       "        text-align: right;\n",
       "    }\n",
       "</style>\n",
       "<table border=\"1\" class=\"dataframe\">\n",
       "  <thead>\n",
       "    <tr style=\"text-align: right;\">\n",
       "      <th></th>\n",
       "      <th>loan_amount</th>\n",
       "      <th>term_(months)</th>\n",
       "      <th>instalment</th>\n",
       "      <th>total_payment</th>\n",
       "      <th>total_rec_int</th>\n",
       "      <th>total_payment_exp</th>\n",
       "      <th>issue_date</th>\n",
       "      <th>last_payment_date</th>\n",
       "      <th>final_payment_date</th>\n",
       "      <th>percentage_rec</th>\n",
       "      <th>months_remaining</th>\n",
       "      <th>total_remaining</th>\n",
       "      <th>term_remaining</th>\n",
       "      <th>next_6mths</th>\n",
       "      <th>total_after_6mths</th>\n",
       "      <th>percentage_rec_6mths</th>\n",
       "    </tr>\n",
       "  </thead>\n",
       "  <tbody>\n",
       "    <tr>\n",
       "      <th>0</th>\n",
       "      <td>8000.0</td>\n",
       "      <td>36</td>\n",
       "      <td>248.82</td>\n",
       "      <td>2982.51</td>\n",
       "      <td>512.21</td>\n",
       "      <td>8957.52</td>\n",
       "      <td>2021-01-01</td>\n",
       "      <td>2022-01-01</td>\n",
       "      <td>2024-01-01</td>\n",
       "      <td>33.30</td>\n",
       "      <td>24</td>\n",
       "      <td>5975.01</td>\n",
       "      <td>24</td>\n",
       "      <td>1492.92</td>\n",
       "      <td>4475.43</td>\n",
       "      <td>49.96</td>\n",
       "    </tr>\n",
       "    <tr>\n",
       "      <th>1</th>\n",
       "      <td>13200.0</td>\n",
       "      <td>36</td>\n",
       "      <td>407.52</td>\n",
       "      <td>4885.11</td>\n",
       "      <td>787.94</td>\n",
       "      <td>14670.72</td>\n",
       "      <td>2021-01-01</td>\n",
       "      <td>2022-01-01</td>\n",
       "      <td>2024-01-01</td>\n",
       "      <td>33.30</td>\n",
       "      <td>24</td>\n",
       "      <td>9785.61</td>\n",
       "      <td>24</td>\n",
       "      <td>2445.12</td>\n",
       "      <td>7330.23</td>\n",
       "      <td>49.97</td>\n",
       "    </tr>\n",
       "    <tr>\n",
       "      <th>2</th>\n",
       "      <td>16000.0</td>\n",
       "      <td>36</td>\n",
       "      <td>497.63</td>\n",
       "      <td>16824.54</td>\n",
       "      <td>824.54</td>\n",
       "      <td>17914.68</td>\n",
       "      <td>2021-01-01</td>\n",
       "      <td>2021-10-01</td>\n",
       "      <td>2024-01-01</td>\n",
       "      <td>93.91</td>\n",
       "      <td>27</td>\n",
       "      <td>1090.14</td>\n",
       "      <td>27</td>\n",
       "      <td>2985.78</td>\n",
       "      <td>17914.68</td>\n",
       "      <td>100.00</td>\n",
       "    </tr>\n",
       "    <tr>\n",
       "      <th>3</th>\n",
       "      <td>15000.0</td>\n",
       "      <td>36</td>\n",
       "      <td>514.93</td>\n",
       "      <td>15947.47</td>\n",
       "      <td>947.47</td>\n",
       "      <td>18537.48</td>\n",
       "      <td>2021-01-01</td>\n",
       "      <td>2021-06-01</td>\n",
       "      <td>2024-01-01</td>\n",
       "      <td>86.03</td>\n",
       "      <td>31</td>\n",
       "      <td>2590.01</td>\n",
       "      <td>31</td>\n",
       "      <td>3089.58</td>\n",
       "      <td>18537.48</td>\n",
       "      <td>100.00</td>\n",
       "    </tr>\n",
       "    <tr>\n",
       "      <th>4</th>\n",
       "      <td>15000.0</td>\n",
       "      <td>36</td>\n",
       "      <td>456.54</td>\n",
       "      <td>5473.46</td>\n",
       "      <td>770.93</td>\n",
       "      <td>16435.44</td>\n",
       "      <td>2021-01-01</td>\n",
       "      <td>2022-01-01</td>\n",
       "      <td>2024-01-01</td>\n",
       "      <td>33.30</td>\n",
       "      <td>24</td>\n",
       "      <td>10961.98</td>\n",
       "      <td>24</td>\n",
       "      <td>2739.24</td>\n",
       "      <td>8212.70</td>\n",
       "      <td>49.97</td>\n",
       "    </tr>\n",
       "  </tbody>\n",
       "</table>\n",
       "</div>"
      ],
      "text/plain": [
       "   loan_amount  term_(months)  instalment  total_payment  total_rec_int  \\\n",
       "0       8000.0             36      248.82        2982.51         512.21   \n",
       "1      13200.0             36      407.52        4885.11         787.94   \n",
       "2      16000.0             36      497.63       16824.54         824.54   \n",
       "3      15000.0             36      514.93       15947.47         947.47   \n",
       "4      15000.0             36      456.54        5473.46         770.93   \n",
       "\n",
       "   total_payment_exp issue_date last_payment_date final_payment_date  \\\n",
       "0            8957.52 2021-01-01        2022-01-01         2024-01-01   \n",
       "1           14670.72 2021-01-01        2022-01-01         2024-01-01   \n",
       "2           17914.68 2021-01-01        2021-10-01         2024-01-01   \n",
       "3           18537.48 2021-01-01        2021-06-01         2024-01-01   \n",
       "4           16435.44 2021-01-01        2022-01-01         2024-01-01   \n",
       "\n",
       "   percentage_rec  months_remaining  total_remaining  term_remaining  \\\n",
       "0           33.30                24          5975.01              24   \n",
       "1           33.30                24          9785.61              24   \n",
       "2           93.91                27          1090.14              27   \n",
       "3           86.03                31          2590.01              31   \n",
       "4           33.30                24         10961.98              24   \n",
       "\n",
       "   next_6mths  total_after_6mths  percentage_rec_6mths  \n",
       "0     1492.92            4475.43                 49.96  \n",
       "1     2445.12            7330.23                 49.97  \n",
       "2     2985.78           17914.68                100.00  \n",
       "3     3089.58           18537.48                100.00  \n",
       "4     2739.24            8212.70                 49.97  "
      ]
     },
     "execution_count": 155,
     "metadata": {},
     "output_type": "execute_result"
    }
   ],
   "source": [
    "task1_df['percentage_rec_6mths'] = round(task1_df['total_after_6mths'] / task1_df['total_payment_exp'] * 100, 2)\n",
    "\n",
    "task1_df.head()"
   ]
  },
  {
   "cell_type": "code",
   "execution_count": null,
   "metadata": {},
   "outputs": [
    {
     "name": "stdout",
     "output_type": "stream",
     "text": [
      "Total payments paid back: 654923855.12\n",
      "Total payments expected: 926663991.36\n",
      "Current percentage paid back: 70.68%\n",
      "Predicted percentage paid back after 6 months: 79.94%\n"
     ]
    }
   ],
   "source": [
    "print(f'Total payments paid back: {total_payments_paid_back:.2f}')\n",
    "print(f'Total payments expected: {total_payments_expected:.2f}')\n",
    "print(f'Current percentage paid back: {percentage_paid_back}%')\n",
    "print(f'Predicted percentage paid back after 6 months: {percentage_paid_back_after_6mths}%')"
   ]
  },
  {
   "cell_type": "markdown",
   "metadata": {},
   "source": [
    "## 2. Calculating Loss\n",
    "\n",
    "What percentage of loans have been a loss to the company?"
   ]
  },
  {
   "cell_type": "code",
   "execution_count": null,
   "metadata": {},
   "outputs": [
    {
     "name": "stdout",
     "output_type": "stream",
     "text": [
      "Percentage of Charged Off loans: 10.83%\n"
     ]
    }
   ],
   "source": [
    "charged_off_mask = (df['loan_status'] == 'Charged Off') + (df['loan_status'] == 'Does not meet the credit policy. Status:Charged Off')\n",
    "charged_off_df = df.loc[charged_off_mask].copy()\n",
    "loss_to_company = len(charged_off_df) / len(df) * 100\n",
    "print(f'Percentage of Charged Off loans: {loss_to_company:.2f}%')"
   ]
  },
  {
   "cell_type": "markdown",
   "metadata": {},
   "source": [
    "The total amount that was paid towards these loans before being Charged Off:"
   ]
  },
  {
   "cell_type": "code",
   "execution_count": null,
   "metadata": {},
   "outputs": [
    {
     "name": "stdout",
     "output_type": "stream",
     "text": [
      "Total amount paid towards Charged Off loans: 39151684.33\n",
      "Percentage of loan payment received before they were Charged Off: 37.05%\n"
     ]
    }
   ],
   "source": [
    "\n",
    "charged_off_payments_rec = charged_off_df['total_payment'].sum()\n",
    "print(f'Total amount paid towards Charged Off loans: {charged_off_payments_rec:.2f}')\n",
    "\n",
    "charged_off_total_exp = charged_off_df['total_payment_exp'].sum()\n",
    "percentage_paid_before_charged_off = charged_off_payments_rec / charged_off_total_exp * 100\n",
    "print(f'Percentage of loan payment received before they were Charged Off: {percentage_paid_before_charged_off:.2f}%')"
   ]
  },
  {
   "cell_type": "markdown",
   "metadata": {},
   "source": [
    "## 3. Calculating Projected Loss"
   ]
  },
  {
   "cell_type": "code",
   "execution_count": null,
   "metadata": {},
   "outputs": [
    {
     "data": {
      "text/html": [
       "<div>\n",
       "<style scoped>\n",
       "    .dataframe tbody tr th:only-of-type {\n",
       "        vertical-align: middle;\n",
       "    }\n",
       "\n",
       "    .dataframe tbody tr th {\n",
       "        vertical-align: top;\n",
       "    }\n",
       "\n",
       "    .dataframe thead th {\n",
       "        text-align: right;\n",
       "    }\n",
       "</style>\n",
       "<table border=\"1\" class=\"dataframe\">\n",
       "  <thead>\n",
       "    <tr style=\"text-align: right;\">\n",
       "      <th></th>\n",
       "      <th>id</th>\n",
       "      <th>member_id</th>\n",
       "      <th>loan_amount</th>\n",
       "      <th>funded_amount</th>\n",
       "      <th>funded_amount_inv</th>\n",
       "      <th>term_(months)</th>\n",
       "      <th>int_rate</th>\n",
       "      <th>instalment</th>\n",
       "      <th>grade</th>\n",
       "      <th>sub_grade</th>\n",
       "      <th>...</th>\n",
       "      <th>collections_12_mths_ex_med</th>\n",
       "      <th>policy_code</th>\n",
       "      <th>application_type</th>\n",
       "      <th>total_payment_exp</th>\n",
       "      <th>percentage_rec</th>\n",
       "      <th>months_remaining</th>\n",
       "      <th>final_payment_date</th>\n",
       "      <th>term_remaining</th>\n",
       "      <th>total_remaining</th>\n",
       "      <th>payment_remaining</th>\n",
       "    </tr>\n",
       "  </thead>\n",
       "  <tbody>\n",
       "    <tr>\n",
       "      <th>7</th>\n",
       "      <td>38656067</td>\n",
       "      <td>41439872</td>\n",
       "      <td>26500.0</td>\n",
       "      <td>26500.0</td>\n",
       "      <td>26200.0</td>\n",
       "      <td>36</td>\n",
       "      <td>19.99</td>\n",
       "      <td>701.95</td>\n",
       "      <td>E</td>\n",
       "      <td>E3</td>\n",
       "      <td>...</td>\n",
       "      <td>0.0</td>\n",
       "      <td>1</td>\n",
       "      <td>INDIVIDUAL</td>\n",
       "      <td>25270.20</td>\n",
       "      <td>16.55</td>\n",
       "      <td>29</td>\n",
       "      <td>2024-01-01</td>\n",
       "      <td>29</td>\n",
       "      <td>20356.55</td>\n",
       "      <td>21087.93</td>\n",
       "    </tr>\n",
       "    <tr>\n",
       "      <th>56</th>\n",
       "      <td>38654836</td>\n",
       "      <td>41438603</td>\n",
       "      <td>11200.0</td>\n",
       "      <td>11200.0</td>\n",
       "      <td>11200.0</td>\n",
       "      <td>60</td>\n",
       "      <td>16.49</td>\n",
       "      <td>275.29</td>\n",
       "      <td>D</td>\n",
       "      <td>D3</td>\n",
       "      <td>...</td>\n",
       "      <td>0.0</td>\n",
       "      <td>1</td>\n",
       "      <td>INDIVIDUAL</td>\n",
       "      <td>16517.40</td>\n",
       "      <td>11.54</td>\n",
       "      <td>53</td>\n",
       "      <td>2026-01-01</td>\n",
       "      <td>53</td>\n",
       "      <td>14590.37</td>\n",
       "      <td>14610.89</td>\n",
       "    </tr>\n",
       "    <tr>\n",
       "      <th>83</th>\n",
       "      <td>38645937</td>\n",
       "      <td>41429742</td>\n",
       "      <td>1325.0</td>\n",
       "      <td>1325.0</td>\n",
       "      <td>1325.0</td>\n",
       "      <td>36</td>\n",
       "      <td>17.14</td>\n",
       "      <td>47.34</td>\n",
       "      <td>D</td>\n",
       "      <td>D4</td>\n",
       "      <td>...</td>\n",
       "      <td>0.0</td>\n",
       "      <td>1</td>\n",
       "      <td>INDIVIDUAL</td>\n",
       "      <td>1704.24</td>\n",
       "      <td>16.59</td>\n",
       "      <td>30</td>\n",
       "      <td>2024-01-01</td>\n",
       "      <td>30</td>\n",
       "      <td>1420.20</td>\n",
       "      <td>1421.46</td>\n",
       "    </tr>\n",
       "    <tr>\n",
       "      <th>90</th>\n",
       "      <td>38645713</td>\n",
       "      <td>41429516</td>\n",
       "      <td>8150.0</td>\n",
       "      <td>8150.0</td>\n",
       "      <td>8150.0</td>\n",
       "      <td>36</td>\n",
       "      <td>19.99</td>\n",
       "      <td>302.85</td>\n",
       "      <td>E</td>\n",
       "      <td>E3</td>\n",
       "      <td>...</td>\n",
       "      <td>0.0</td>\n",
       "      <td>1</td>\n",
       "      <td>INDIVIDUAL</td>\n",
       "      <td>10902.60</td>\n",
       "      <td>16.58</td>\n",
       "      <td>30</td>\n",
       "      <td>2024-01-01</td>\n",
       "      <td>30</td>\n",
       "      <td>9085.50</td>\n",
       "      <td>9094.55</td>\n",
       "    </tr>\n",
       "    <tr>\n",
       "      <th>117</th>\n",
       "      <td>38644867</td>\n",
       "      <td>41428644</td>\n",
       "      <td>7000.0</td>\n",
       "      <td>7000.0</td>\n",
       "      <td>7000.0</td>\n",
       "      <td>36</td>\n",
       "      <td>12.99</td>\n",
       "      <td>235.83</td>\n",
       "      <td>C</td>\n",
       "      <td>C2</td>\n",
       "      <td>...</td>\n",
       "      <td>0.0</td>\n",
       "      <td>1</td>\n",
       "      <td>INDIVIDUAL</td>\n",
       "      <td>8489.88</td>\n",
       "      <td>19.48</td>\n",
       "      <td>34</td>\n",
       "      <td>2024-01-01</td>\n",
       "      <td>34</td>\n",
       "      <td>8018.22</td>\n",
       "      <td>6835.74</td>\n",
       "    </tr>\n",
       "  </tbody>\n",
       "</table>\n",
       "<p>5 rows × 46 columns</p>\n",
       "</div>"
      ],
      "text/plain": [
       "           id  member_id  loan_amount  funded_amount  funded_amount_inv  \\\n",
       "7    38656067   41439872      26500.0        26500.0            26200.0   \n",
       "56   38654836   41438603      11200.0        11200.0            11200.0   \n",
       "83   38645937   41429742       1325.0         1325.0             1325.0   \n",
       "90   38645713   41429516       8150.0         8150.0             8150.0   \n",
       "117  38644867   41428644       7000.0         7000.0             7000.0   \n",
       "\n",
       "     term_(months)  int_rate  instalment grade sub_grade  ...  \\\n",
       "7               36     19.99      701.95     E        E3  ...   \n",
       "56              60     16.49      275.29     D        D3  ...   \n",
       "83              36     17.14       47.34     D        D4  ...   \n",
       "90              36     19.99      302.85     E        E3  ...   \n",
       "117             36     12.99      235.83     C        C2  ...   \n",
       "\n",
       "    collections_12_mths_ex_med policy_code  application_type  \\\n",
       "7                          0.0           1        INDIVIDUAL   \n",
       "56                         0.0           1        INDIVIDUAL   \n",
       "83                         0.0           1        INDIVIDUAL   \n",
       "90                         0.0           1        INDIVIDUAL   \n",
       "117                        0.0           1        INDIVIDUAL   \n",
       "\n",
       "    total_payment_exp percentage_rec months_remaining final_payment_date  \\\n",
       "7            25270.20          16.55               29         2024-01-01   \n",
       "56           16517.40          11.54               53         2026-01-01   \n",
       "83            1704.24          16.59               30         2024-01-01   \n",
       "90           10902.60          16.58               30         2024-01-01   \n",
       "117           8489.88          19.48               34         2024-01-01   \n",
       "\n",
       "    term_remaining  total_remaining  payment_remaining  \n",
       "7               29         20356.55           21087.93  \n",
       "56              53         14590.37           14610.89  \n",
       "83              30          1420.20            1421.46  \n",
       "90              30          9085.50            9094.55  \n",
       "117             34          8018.22            6835.74  \n",
       "\n",
       "[5 rows x 46 columns]"
      ]
     },
     "execution_count": 132,
     "metadata": {},
     "output_type": "execute_result"
    }
   ],
   "source": [
    "charged_off_df.head()"
   ]
  },
  {
   "cell_type": "markdown",
   "metadata": {},
   "source": [
    "Projected loss of loans marked as Charged Off and the loss in revenue that these loans would have generated for the company if they had finished their term:"
   ]
  },
  {
   "cell_type": "code",
   "execution_count": null,
   "metadata": {},
   "outputs": [
    {
     "name": "stdout",
     "output_type": "stream",
     "text": [
      "Projected loss in revenue if Charged Off loans had finished their term: 69794331.5\n",
      "Percentage of loss of revenue due to Charged Off loans: 66.05%\n"
     ]
    }
   ],
   "source": [
    "charged_off_projected_loss = charged_off_df['total_remaining'].sum()\n",
    "\n",
    "print(f'Projected loss in revenue if Charged Off loans had finished their term: {charged_off_projected_loss}')\n",
    "percentage_of_revenue_loss = charged_off_projected_loss / (charged_off_df['total_payment_exp'].sum()) * 100\n",
    "print(f'Percentage of loss of revenue due to Charged Off loans: {percentage_of_revenue_loss:.2f}%')"
   ]
  },
  {
   "cell_type": "markdown",
   "metadata": {},
   "source": [
    "## 4. Possible Loss\n",
    "\n",
    "There are customers who are currently behind with their loan payments. This subset of customers represent a risk to company revenue.\n",
    "\n",
    "First, I have created a dataframe showing only customers who are behind on their payments:"
   ]
  },
  {
   "cell_type": "code",
   "execution_count": null,
   "metadata": {},
   "outputs": [
    {
     "data": {
      "text/html": [
       "<div>\n",
       "<style scoped>\n",
       "    .dataframe tbody tr th:only-of-type {\n",
       "        vertical-align: middle;\n",
       "    }\n",
       "\n",
       "    .dataframe tbody tr th {\n",
       "        vertical-align: top;\n",
       "    }\n",
       "\n",
       "    .dataframe thead th {\n",
       "        text-align: right;\n",
       "    }\n",
       "</style>\n",
       "<table border=\"1\" class=\"dataframe\">\n",
       "  <thead>\n",
       "    <tr style=\"text-align: right;\">\n",
       "      <th></th>\n",
       "      <th>id</th>\n",
       "      <th>member_id</th>\n",
       "      <th>loan_amount</th>\n",
       "      <th>funded_amount</th>\n",
       "      <th>funded_amount_inv</th>\n",
       "      <th>term_(months)</th>\n",
       "      <th>int_rate</th>\n",
       "      <th>instalment</th>\n",
       "      <th>grade</th>\n",
       "      <th>sub_grade</th>\n",
       "      <th>...</th>\n",
       "      <th>total_payment_exp</th>\n",
       "      <th>percentage_rec</th>\n",
       "      <th>months_remaining</th>\n",
       "      <th>final_payment_date</th>\n",
       "      <th>term_remaining</th>\n",
       "      <th>total_remaining</th>\n",
       "      <th>payment_remaining</th>\n",
       "      <th>months_into_term</th>\n",
       "      <th>current_payment_expected</th>\n",
       "      <th>overdue_balance</th>\n",
       "    </tr>\n",
       "  </thead>\n",
       "  <tbody>\n",
       "    <tr>\n",
       "      <th>17</th>\n",
       "      <td>38655869</td>\n",
       "      <td>41439673</td>\n",
       "      <td>18825.0</td>\n",
       "      <td>18825.0</td>\n",
       "      <td>18825.0</td>\n",
       "      <td>60</td>\n",
       "      <td>13.66</td>\n",
       "      <td>434.72</td>\n",
       "      <td>C</td>\n",
       "      <td>C3</td>\n",
       "      <td>...</td>\n",
       "      <td>26083.20</td>\n",
       "      <td>14.89</td>\n",
       "      <td>51</td>\n",
       "      <td>2026-01-01</td>\n",
       "      <td>51</td>\n",
       "      <td>22170.72</td>\n",
       "      <td>22199.29</td>\n",
       "      <td>9</td>\n",
       "      <td>3912.48</td>\n",
       "      <td>28.57</td>\n",
       "    </tr>\n",
       "    <tr>\n",
       "      <th>140</th>\n",
       "      <td>38644147</td>\n",
       "      <td>41427862</td>\n",
       "      <td>15600.0</td>\n",
       "      <td>15600.0</td>\n",
       "      <td>15600.0</td>\n",
       "      <td>36</td>\n",
       "      <td>14.99</td>\n",
       "      <td>540.71</td>\n",
       "      <td>C</td>\n",
       "      <td>C5</td>\n",
       "      <td>...</td>\n",
       "      <td>19465.56</td>\n",
       "      <td>27.71</td>\n",
       "      <td>26</td>\n",
       "      <td>2024-01-01</td>\n",
       "      <td>26</td>\n",
       "      <td>14058.46</td>\n",
       "      <td>14071.45</td>\n",
       "      <td>10</td>\n",
       "      <td>5407.10</td>\n",
       "      <td>12.99</td>\n",
       "    </tr>\n",
       "    <tr>\n",
       "      <th>168</th>\n",
       "      <td>38635317</td>\n",
       "      <td>41419102</td>\n",
       "      <td>6000.0</td>\n",
       "      <td>6000.0</td>\n",
       "      <td>6000.0</td>\n",
       "      <td>36</td>\n",
       "      <td>8.67</td>\n",
       "      <td>189.88</td>\n",
       "      <td>B</td>\n",
       "      <td>B1</td>\n",
       "      <td>...</td>\n",
       "      <td>6835.68</td>\n",
       "      <td>27.91</td>\n",
       "      <td>26</td>\n",
       "      <td>2024-01-01</td>\n",
       "      <td>26</td>\n",
       "      <td>4936.88</td>\n",
       "      <td>4927.66</td>\n",
       "      <td>10</td>\n",
       "      <td>1898.80</td>\n",
       "      <td>-9.22</td>\n",
       "    </tr>\n",
       "    <tr>\n",
       "      <th>171</th>\n",
       "      <td>38635273</td>\n",
       "      <td>41419056</td>\n",
       "      <td>15000.0</td>\n",
       "      <td>15000.0</td>\n",
       "      <td>15000.0</td>\n",
       "      <td>36</td>\n",
       "      <td>13.16</td>\n",
       "      <td>471.37</td>\n",
       "      <td>A</td>\n",
       "      <td>A5</td>\n",
       "      <td>...</td>\n",
       "      <td>16969.32</td>\n",
       "      <td>22.18</td>\n",
       "      <td>28</td>\n",
       "      <td>2024-01-01</td>\n",
       "      <td>28</td>\n",
       "      <td>13198.36</td>\n",
       "      <td>13205.18</td>\n",
       "      <td>8</td>\n",
       "      <td>3770.96</td>\n",
       "      <td>6.82</td>\n",
       "    </tr>\n",
       "    <tr>\n",
       "      <th>243</th>\n",
       "      <td>38625326</td>\n",
       "      <td>41409103</td>\n",
       "      <td>5000.0</td>\n",
       "      <td>5000.0</td>\n",
       "      <td>5000.0</td>\n",
       "      <td>36</td>\n",
       "      <td>11.44</td>\n",
       "      <td>164.74</td>\n",
       "      <td>B</td>\n",
       "      <td>B4</td>\n",
       "      <td>...</td>\n",
       "      <td>5930.64</td>\n",
       "      <td>30.50</td>\n",
       "      <td>25</td>\n",
       "      <td>2024-01-01</td>\n",
       "      <td>25</td>\n",
       "      <td>4118.50</td>\n",
       "      <td>4121.68</td>\n",
       "      <td>11</td>\n",
       "      <td>1812.14</td>\n",
       "      <td>3.18</td>\n",
       "    </tr>\n",
       "  </tbody>\n",
       "</table>\n",
       "<p>5 rows × 49 columns</p>\n",
       "</div>"
      ],
      "text/plain": [
       "           id  member_id  loan_amount  funded_amount  funded_amount_inv  \\\n",
       "17   38655869   41439673      18825.0        18825.0            18825.0   \n",
       "140  38644147   41427862      15600.0        15600.0            15600.0   \n",
       "168  38635317   41419102       6000.0         6000.0             6000.0   \n",
       "171  38635273   41419056      15000.0        15000.0            15000.0   \n",
       "243  38625326   41409103       5000.0         5000.0             5000.0   \n",
       "\n",
       "     term_(months)  int_rate  instalment grade sub_grade  ...  \\\n",
       "17              60     13.66      434.72     C        C3  ...   \n",
       "140             36     14.99      540.71     C        C5  ...   \n",
       "168             36      8.67      189.88     B        B1  ...   \n",
       "171             36     13.16      471.37     A        A5  ...   \n",
       "243             36     11.44      164.74     B        B4  ...   \n",
       "\n",
       "    total_payment_exp percentage_rec  months_remaining final_payment_date  \\\n",
       "17           26083.20          14.89                51         2026-01-01   \n",
       "140          19465.56          27.71                26         2024-01-01   \n",
       "168           6835.68          27.91                26         2024-01-01   \n",
       "171          16969.32          22.18                28         2024-01-01   \n",
       "243           5930.64          30.50                25         2024-01-01   \n",
       "\n",
       "    term_remaining total_remaining payment_remaining months_into_term  \\\n",
       "17              51        22170.72          22199.29                9   \n",
       "140             26        14058.46          14071.45               10   \n",
       "168             26         4936.88           4927.66               10   \n",
       "171             28        13198.36          13205.18                8   \n",
       "243             25         4118.50           4121.68               11   \n",
       "\n",
       "     current_payment_expected  overdue_balance  \n",
       "17                    3912.48            28.57  \n",
       "140                   5407.10            12.99  \n",
       "168                   1898.80            -9.22  \n",
       "171                   3770.96             6.82  \n",
       "243                   1812.14             3.18  \n",
       "\n",
       "[5 rows x 49 columns]"
      ]
     },
     "execution_count": 134,
     "metadata": {},
     "output_type": "execute_result"
    }
   ],
   "source": [
    "df['months_into_term'] = round((df['last_payment_date'] - df['issue_date']).dt.days / 30).astype(int)\n",
    "df['current_payment_expected'] = df['months_into_term'] * df['instalment']\n",
    "# df['overdue_balance'] = df['current_payment_expected'] - df['total_rec']\n",
    "df['overdue_balance'] = df['current_payment_expected'] - df['total_payment']\n",
    "\n",
    "behind_mask = df['loan_status'].str.startswith('Late')\n",
    "behind_df = df.loc[behind_mask].copy()\n",
    "\n",
    "behind_df.head()"
   ]
  },
  {
   "cell_type": "markdown",
   "metadata": {},
   "source": [
    "I will look at the percentage the users in this bracket currently represent of all loans:"
   ]
  },
  {
   "cell_type": "code",
   "execution_count": null,
   "metadata": {},
   "outputs": [
    {
     "name": "stdout",
     "output_type": "stream",
     "text": [
      "Percentage of customers who are currently behind on their loan payments: 1.27\n"
     ]
    }
   ],
   "source": [
    "late_percentage = len(behind_df) / len(df) * 100\n",
    "print(f'Percentage of customers who are currently behind on their loan payments: {late_percentage:.2f}')"
   ]
  },
  {
   "cell_type": "markdown",
   "metadata": {},
   "source": [
    "I have calculated the total amount of customers there are and how much loss the company would incur if their status changes to 'Charged Off':\n",
    "\n"
   ]
  },
  {
   "cell_type": "code",
   "execution_count": null,
   "metadata": {},
   "outputs": [
    {
     "name": "stdout",
     "output_type": "stream",
     "text": [
      "There are 686 customers that are behind on their payments.\n"
     ]
    }
   ],
   "source": [
    "num_behind_customers = behind_df['member_id'].count()\n",
    "print(f'There are {num_behind_customers} customers that are behind on their payments.')"
   ]
  },
  {
   "cell_type": "markdown",
   "metadata": {},
   "source": [
    "If the customers that are currently late on payments converted to 'Charged Off', I wonder what percentage of total expected revenue these customers and the customers who have already defaulted on their loans represent?"
   ]
  },
  {
   "cell_type": "code",
   "execution_count": null,
   "metadata": {},
   "outputs": [
    {
     "name": "stdout",
     "output_type": "stream",
     "text": [
      "If the 686 late paying customers' statuses were changed to 'Charged Off', \n",
      "Predicted loss for company is 7316814.49\n"
     ]
    }
   ],
   "source": [
    "late_customers_changed_to_charged_off = (behind_df['total_payment_exp'] - behind_df['total_payment']).sum()\n",
    "print(f\"If the {num_behind_customers} late paying customers' statuses were changed to 'Charged Off', \\nPredicted loss for company is {late_customers_changed_to_charged_off:.2f}\")"
   ]
  },
  {
   "cell_type": "code",
   "execution_count": null,
   "metadata": {},
   "outputs": [
    {
     "name": "stdout",
     "output_type": "stream",
     "text": [
      "The projected loss to the company if the current late paying customers were to finish their loans term is 202641.21\n"
     ]
    }
   ],
   "source": [
    "payment_remaining = (behind_df['months_remaining'] * behind_df['instalment']).sum()\n",
    "loss_if_full_term_carried_out = behind_df['total_payment_exp'].sum() - (behind_df['total_payment'].sum() + payment_remaining)\n",
    "print(f'The projected loss to the company if the current late paying customers were to finish their loans term is {loss_if_full_term_carried_out:.2f}')\n"
   ]
  },
  {
   "cell_type": "code",
   "execution_count": null,
   "metadata": {},
   "outputs": [
    {
     "name": "stdout",
     "output_type": "stream",
     "text": [
      "Percentage of customers who have defaulted, are charged off, or are late on payments is 11.53%\n"
     ]
    }
   ],
   "source": [
    "late_default_charged_off_mask = (df['loan_status'] == 'Default') | (df['loan_status'] == 'Charged Off') | (df['loan_status'].str.startswith('Late'))\n",
    "late_default_charged_off_df = df.loc[late_default_charged_off_mask].copy()\n",
    "\n",
    "percentage_of_late_default_charged_off = round(len(late_default_charged_off_df) / len(df) * 100, 2)\n",
    "print(f'Percentage of customers who have defaulted, are charged off, or are late on payments is {percentage_of_late_default_charged_off}%')"
   ]
  },
  {
   "cell_type": "markdown",
   "metadata": {},
   "source": [
    "## 5. Indicators of Loss\n",
    "\n",
    "I will look into indicators that customers will not be able to pay their loan."
   ]
  },
  {
   "cell_type": "code",
   "execution_count": null,
   "metadata": {},
   "outputs": [
    {
     "data": {
      "text/html": [
       "<div>\n",
       "<style scoped>\n",
       "    .dataframe tbody tr th:only-of-type {\n",
       "        vertical-align: middle;\n",
       "    }\n",
       "\n",
       "    .dataframe tbody tr th {\n",
       "        vertical-align: top;\n",
       "    }\n",
       "\n",
       "    .dataframe thead th {\n",
       "        text-align: right;\n",
       "    }\n",
       "</style>\n",
       "<table border=\"1\" class=\"dataframe\">\n",
       "  <thead>\n",
       "    <tr style=\"text-align: right;\">\n",
       "      <th></th>\n",
       "      <th>loan_status</th>\n",
       "      <th>employment_length</th>\n",
       "      <th>purpose</th>\n",
       "      <th>home_ownership</th>\n",
       "      <th>grade</th>\n",
       "      <th>annual_inc</th>\n",
       "      <th>int_rate</th>\n",
       "      <th>verification_status</th>\n",
       "    </tr>\n",
       "  </thead>\n",
       "  <tbody>\n",
       "    <tr>\n",
       "      <th>7</th>\n",
       "      <td>Charged Off</td>\n",
       "      <td>&lt; 1 year</td>\n",
       "      <td>debt_consolidation</td>\n",
       "      <td>RENT</td>\n",
       "      <td>E</td>\n",
       "      <td>78000.0</td>\n",
       "      <td>19.99</td>\n",
       "      <td>Source Verified</td>\n",
       "    </tr>\n",
       "    <tr>\n",
       "      <th>17</th>\n",
       "      <td>Late (31-120 days)</td>\n",
       "      <td>10+ years</td>\n",
       "      <td>debt_consolidation</td>\n",
       "      <td>MORTGAGE</td>\n",
       "      <td>C</td>\n",
       "      <td>52000.0</td>\n",
       "      <td>13.66</td>\n",
       "      <td>Verified</td>\n",
       "    </tr>\n",
       "    <tr>\n",
       "      <th>56</th>\n",
       "      <td>Charged Off</td>\n",
       "      <td>3 years</td>\n",
       "      <td>debt_consolidation</td>\n",
       "      <td>RENT</td>\n",
       "      <td>D</td>\n",
       "      <td>94000.0</td>\n",
       "      <td>16.49</td>\n",
       "      <td>Not Verified</td>\n",
       "    </tr>\n",
       "    <tr>\n",
       "      <th>83</th>\n",
       "      <td>Charged Off</td>\n",
       "      <td>&lt; 1 year</td>\n",
       "      <td>debt_consolidation</td>\n",
       "      <td>MORTGAGE</td>\n",
       "      <td>D</td>\n",
       "      <td>28000.0</td>\n",
       "      <td>17.14</td>\n",
       "      <td>Not Verified</td>\n",
       "    </tr>\n",
       "    <tr>\n",
       "      <th>90</th>\n",
       "      <td>Charged Off</td>\n",
       "      <td>10+ years</td>\n",
       "      <td>debt_consolidation</td>\n",
       "      <td>RENT</td>\n",
       "      <td>E</td>\n",
       "      <td>34000.0</td>\n",
       "      <td>19.99</td>\n",
       "      <td>Source Verified</td>\n",
       "    </tr>\n",
       "  </tbody>\n",
       "</table>\n",
       "</div>"
      ],
      "text/plain": [
       "           loan_status employment_length             purpose home_ownership  \\\n",
       "7          Charged Off          < 1 year  debt_consolidation           RENT   \n",
       "17  Late (31-120 days)         10+ years  debt_consolidation       MORTGAGE   \n",
       "56         Charged Off           3 years  debt_consolidation           RENT   \n",
       "83         Charged Off          < 1 year  debt_consolidation       MORTGAGE   \n",
       "90         Charged Off         10+ years  debt_consolidation           RENT   \n",
       "\n",
       "   grade  annual_inc  int_rate verification_status  \n",
       "7      E     78000.0     19.99     Source Verified  \n",
       "17     C     52000.0     13.66            Verified  \n",
       "56     D     94000.0     16.49        Not Verified  \n",
       "83     D     28000.0     17.14        Not Verified  \n",
       "90     E     34000.0     19.99     Source Verified  "
      ]
     },
     "execution_count": 140,
     "metadata": {},
     "output_type": "execute_result"
    }
   ],
   "source": [
    "df_loss = late_default_charged_off_df[['loan_status', 'employment_length', 'purpose', 'home_ownership', 'grade', 'annual_inc', 'int_rate', 'verification_status']]\n",
    "\n",
    "df_loss.head()"
   ]
  },
  {
   "cell_type": "markdown",
   "metadata": {},
   "source": [
    "- `purpose`\n",
    "\n",
    "The reason why customers are taking out loans is a large indicator of possible future loss.\n",
    "\n",
    "From the pie chart below, I can see that a large proportion of customers that have been unable and are struggling to pay back their loans taken the loan out for debt reasons.\n",
    "\n",
    "This would be a huge indicator of risk to loss when taking on customers that are requesting loans for these reasons in future."
   ]
  },
  {
   "cell_type": "code",
   "execution_count": null,
   "metadata": {},
   "outputs": [
    {
     "data": {
      "application/vnd.plotly.v1+json": {
       "config": {
        "plotlyServerURL": "https://plot.ly"
       },
       "data": [
        {
         "domain": {
          "x": [
           0,
           1
          ],
          "y": [
           0,
           1
          ]
         },
         "hovertemplate": "purpose=%{label}<br>count=%{value}<extra></extra>",
         "labels": [
          "car",
          "credit_card",
          "debt_consolidation",
          "educational",
          "home_improvement",
          "house",
          "major_purchase",
          "medical",
          "moving",
          "other",
          "renewable_energy",
          "small_business",
          "vacation",
          "wedding"
         ],
         "legendgroup": "",
         "name": "",
         "showlegend": true,
         "type": "pie",
         "values": [
          94,
          1028,
          3501,
          26,
          306,
          40,
          172,
          84,
          69,
          522,
          11,
          309,
          39,
          40
         ]
        }
       ],
       "layout": {
        "legend": {
         "tracegroupgap": 0
        },
        "template": {
         "data": {
          "bar": [
           {
            "error_x": {
             "color": "#2a3f5f"
            },
            "error_y": {
             "color": "#2a3f5f"
            },
            "marker": {
             "line": {
              "color": "#E5ECF6",
              "width": 0.5
             },
             "pattern": {
              "fillmode": "overlay",
              "size": 10,
              "solidity": 0.2
             }
            },
            "type": "bar"
           }
          ],
          "barpolar": [
           {
            "marker": {
             "line": {
              "color": "#E5ECF6",
              "width": 0.5
             },
             "pattern": {
              "fillmode": "overlay",
              "size": 10,
              "solidity": 0.2
             }
            },
            "type": "barpolar"
           }
          ],
          "carpet": [
           {
            "aaxis": {
             "endlinecolor": "#2a3f5f",
             "gridcolor": "white",
             "linecolor": "white",
             "minorgridcolor": "white",
             "startlinecolor": "#2a3f5f"
            },
            "baxis": {
             "endlinecolor": "#2a3f5f",
             "gridcolor": "white",
             "linecolor": "white",
             "minorgridcolor": "white",
             "startlinecolor": "#2a3f5f"
            },
            "type": "carpet"
           }
          ],
          "choropleth": [
           {
            "colorbar": {
             "outlinewidth": 0,
             "ticks": ""
            },
            "type": "choropleth"
           }
          ],
          "contour": [
           {
            "colorbar": {
             "outlinewidth": 0,
             "ticks": ""
            },
            "colorscale": [
             [
              0,
              "#0d0887"
             ],
             [
              0.1111111111111111,
              "#46039f"
             ],
             [
              0.2222222222222222,
              "#7201a8"
             ],
             [
              0.3333333333333333,
              "#9c179e"
             ],
             [
              0.4444444444444444,
              "#bd3786"
             ],
             [
              0.5555555555555556,
              "#d8576b"
             ],
             [
              0.6666666666666666,
              "#ed7953"
             ],
             [
              0.7777777777777778,
              "#fb9f3a"
             ],
             [
              0.8888888888888888,
              "#fdca26"
             ],
             [
              1,
              "#f0f921"
             ]
            ],
            "type": "contour"
           }
          ],
          "contourcarpet": [
           {
            "colorbar": {
             "outlinewidth": 0,
             "ticks": ""
            },
            "type": "contourcarpet"
           }
          ],
          "heatmap": [
           {
            "colorbar": {
             "outlinewidth": 0,
             "ticks": ""
            },
            "colorscale": [
             [
              0,
              "#0d0887"
             ],
             [
              0.1111111111111111,
              "#46039f"
             ],
             [
              0.2222222222222222,
              "#7201a8"
             ],
             [
              0.3333333333333333,
              "#9c179e"
             ],
             [
              0.4444444444444444,
              "#bd3786"
             ],
             [
              0.5555555555555556,
              "#d8576b"
             ],
             [
              0.6666666666666666,
              "#ed7953"
             ],
             [
              0.7777777777777778,
              "#fb9f3a"
             ],
             [
              0.8888888888888888,
              "#fdca26"
             ],
             [
              1,
              "#f0f921"
             ]
            ],
            "type": "heatmap"
           }
          ],
          "heatmapgl": [
           {
            "colorbar": {
             "outlinewidth": 0,
             "ticks": ""
            },
            "colorscale": [
             [
              0,
              "#0d0887"
             ],
             [
              0.1111111111111111,
              "#46039f"
             ],
             [
              0.2222222222222222,
              "#7201a8"
             ],
             [
              0.3333333333333333,
              "#9c179e"
             ],
             [
              0.4444444444444444,
              "#bd3786"
             ],
             [
              0.5555555555555556,
              "#d8576b"
             ],
             [
              0.6666666666666666,
              "#ed7953"
             ],
             [
              0.7777777777777778,
              "#fb9f3a"
             ],
             [
              0.8888888888888888,
              "#fdca26"
             ],
             [
              1,
              "#f0f921"
             ]
            ],
            "type": "heatmapgl"
           }
          ],
          "histogram": [
           {
            "marker": {
             "pattern": {
              "fillmode": "overlay",
              "size": 10,
              "solidity": 0.2
             }
            },
            "type": "histogram"
           }
          ],
          "histogram2d": [
           {
            "colorbar": {
             "outlinewidth": 0,
             "ticks": ""
            },
            "colorscale": [
             [
              0,
              "#0d0887"
             ],
             [
              0.1111111111111111,
              "#46039f"
             ],
             [
              0.2222222222222222,
              "#7201a8"
             ],
             [
              0.3333333333333333,
              "#9c179e"
             ],
             [
              0.4444444444444444,
              "#bd3786"
             ],
             [
              0.5555555555555556,
              "#d8576b"
             ],
             [
              0.6666666666666666,
              "#ed7953"
             ],
             [
              0.7777777777777778,
              "#fb9f3a"
             ],
             [
              0.8888888888888888,
              "#fdca26"
             ],
             [
              1,
              "#f0f921"
             ]
            ],
            "type": "histogram2d"
           }
          ],
          "histogram2dcontour": [
           {
            "colorbar": {
             "outlinewidth": 0,
             "ticks": ""
            },
            "colorscale": [
             [
              0,
              "#0d0887"
             ],
             [
              0.1111111111111111,
              "#46039f"
             ],
             [
              0.2222222222222222,
              "#7201a8"
             ],
             [
              0.3333333333333333,
              "#9c179e"
             ],
             [
              0.4444444444444444,
              "#bd3786"
             ],
             [
              0.5555555555555556,
              "#d8576b"
             ],
             [
              0.6666666666666666,
              "#ed7953"
             ],
             [
              0.7777777777777778,
              "#fb9f3a"
             ],
             [
              0.8888888888888888,
              "#fdca26"
             ],
             [
              1,
              "#f0f921"
             ]
            ],
            "type": "histogram2dcontour"
           }
          ],
          "mesh3d": [
           {
            "colorbar": {
             "outlinewidth": 0,
             "ticks": ""
            },
            "type": "mesh3d"
           }
          ],
          "parcoords": [
           {
            "line": {
             "colorbar": {
              "outlinewidth": 0,
              "ticks": ""
             }
            },
            "type": "parcoords"
           }
          ],
          "pie": [
           {
            "automargin": true,
            "type": "pie"
           }
          ],
          "scatter": [
           {
            "fillpattern": {
             "fillmode": "overlay",
             "size": 10,
             "solidity": 0.2
            },
            "type": "scatter"
           }
          ],
          "scatter3d": [
           {
            "line": {
             "colorbar": {
              "outlinewidth": 0,
              "ticks": ""
             }
            },
            "marker": {
             "colorbar": {
              "outlinewidth": 0,
              "ticks": ""
             }
            },
            "type": "scatter3d"
           }
          ],
          "scattercarpet": [
           {
            "marker": {
             "colorbar": {
              "outlinewidth": 0,
              "ticks": ""
             }
            },
            "type": "scattercarpet"
           }
          ],
          "scattergeo": [
           {
            "marker": {
             "colorbar": {
              "outlinewidth": 0,
              "ticks": ""
             }
            },
            "type": "scattergeo"
           }
          ],
          "scattergl": [
           {
            "marker": {
             "colorbar": {
              "outlinewidth": 0,
              "ticks": ""
             }
            },
            "type": "scattergl"
           }
          ],
          "scattermapbox": [
           {
            "marker": {
             "colorbar": {
              "outlinewidth": 0,
              "ticks": ""
             }
            },
            "type": "scattermapbox"
           }
          ],
          "scatterpolar": [
           {
            "marker": {
             "colorbar": {
              "outlinewidth": 0,
              "ticks": ""
             }
            },
            "type": "scatterpolar"
           }
          ],
          "scatterpolargl": [
           {
            "marker": {
             "colorbar": {
              "outlinewidth": 0,
              "ticks": ""
             }
            },
            "type": "scatterpolargl"
           }
          ],
          "scatterternary": [
           {
            "marker": {
             "colorbar": {
              "outlinewidth": 0,
              "ticks": ""
             }
            },
            "type": "scatterternary"
           }
          ],
          "surface": [
           {
            "colorbar": {
             "outlinewidth": 0,
             "ticks": ""
            },
            "colorscale": [
             [
              0,
              "#0d0887"
             ],
             [
              0.1111111111111111,
              "#46039f"
             ],
             [
              0.2222222222222222,
              "#7201a8"
             ],
             [
              0.3333333333333333,
              "#9c179e"
             ],
             [
              0.4444444444444444,
              "#bd3786"
             ],
             [
              0.5555555555555556,
              "#d8576b"
             ],
             [
              0.6666666666666666,
              "#ed7953"
             ],
             [
              0.7777777777777778,
              "#fb9f3a"
             ],
             [
              0.8888888888888888,
              "#fdca26"
             ],
             [
              1,
              "#f0f921"
             ]
            ],
            "type": "surface"
           }
          ],
          "table": [
           {
            "cells": {
             "fill": {
              "color": "#EBF0F8"
             },
             "line": {
              "color": "white"
             }
            },
            "header": {
             "fill": {
              "color": "#C8D4E3"
             },
             "line": {
              "color": "white"
             }
            },
            "type": "table"
           }
          ]
         },
         "layout": {
          "annotationdefaults": {
           "arrowcolor": "#2a3f5f",
           "arrowhead": 0,
           "arrowwidth": 1
          },
          "autotypenumbers": "strict",
          "coloraxis": {
           "colorbar": {
            "outlinewidth": 0,
            "ticks": ""
           }
          },
          "colorscale": {
           "diverging": [
            [
             0,
             "#8e0152"
            ],
            [
             0.1,
             "#c51b7d"
            ],
            [
             0.2,
             "#de77ae"
            ],
            [
             0.3,
             "#f1b6da"
            ],
            [
             0.4,
             "#fde0ef"
            ],
            [
             0.5,
             "#f7f7f7"
            ],
            [
             0.6,
             "#e6f5d0"
            ],
            [
             0.7,
             "#b8e186"
            ],
            [
             0.8,
             "#7fbc41"
            ],
            [
             0.9,
             "#4d9221"
            ],
            [
             1,
             "#276419"
            ]
           ],
           "sequential": [
            [
             0,
             "#0d0887"
            ],
            [
             0.1111111111111111,
             "#46039f"
            ],
            [
             0.2222222222222222,
             "#7201a8"
            ],
            [
             0.3333333333333333,
             "#9c179e"
            ],
            [
             0.4444444444444444,
             "#bd3786"
            ],
            [
             0.5555555555555556,
             "#d8576b"
            ],
            [
             0.6666666666666666,
             "#ed7953"
            ],
            [
             0.7777777777777778,
             "#fb9f3a"
            ],
            [
             0.8888888888888888,
             "#fdca26"
            ],
            [
             1,
             "#f0f921"
            ]
           ],
           "sequentialminus": [
            [
             0,
             "#0d0887"
            ],
            [
             0.1111111111111111,
             "#46039f"
            ],
            [
             0.2222222222222222,
             "#7201a8"
            ],
            [
             0.3333333333333333,
             "#9c179e"
            ],
            [
             0.4444444444444444,
             "#bd3786"
            ],
            [
             0.5555555555555556,
             "#d8576b"
            ],
            [
             0.6666666666666666,
             "#ed7953"
            ],
            [
             0.7777777777777778,
             "#fb9f3a"
            ],
            [
             0.8888888888888888,
             "#fdca26"
            ],
            [
             1,
             "#f0f921"
            ]
           ]
          },
          "colorway": [
           "#636efa",
           "#EF553B",
           "#00cc96",
           "#ab63fa",
           "#FFA15A",
           "#19d3f3",
           "#FF6692",
           "#B6E880",
           "#FF97FF",
           "#FECB52"
          ],
          "font": {
           "color": "#2a3f5f"
          },
          "geo": {
           "bgcolor": "white",
           "lakecolor": "white",
           "landcolor": "#E5ECF6",
           "showlakes": true,
           "showland": true,
           "subunitcolor": "white"
          },
          "hoverlabel": {
           "align": "left"
          },
          "hovermode": "closest",
          "mapbox": {
           "style": "light"
          },
          "paper_bgcolor": "white",
          "plot_bgcolor": "#E5ECF6",
          "polar": {
           "angularaxis": {
            "gridcolor": "white",
            "linecolor": "white",
            "ticks": ""
           },
           "bgcolor": "#E5ECF6",
           "radialaxis": {
            "gridcolor": "white",
            "linecolor": "white",
            "ticks": ""
           }
          },
          "scene": {
           "xaxis": {
            "backgroundcolor": "#E5ECF6",
            "gridcolor": "white",
            "gridwidth": 2,
            "linecolor": "white",
            "showbackground": true,
            "ticks": "",
            "zerolinecolor": "white"
           },
           "yaxis": {
            "backgroundcolor": "#E5ECF6",
            "gridcolor": "white",
            "gridwidth": 2,
            "linecolor": "white",
            "showbackground": true,
            "ticks": "",
            "zerolinecolor": "white"
           },
           "zaxis": {
            "backgroundcolor": "#E5ECF6",
            "gridcolor": "white",
            "gridwidth": 2,
            "linecolor": "white",
            "showbackground": true,
            "ticks": "",
            "zerolinecolor": "white"
           }
          },
          "shapedefaults": {
           "line": {
            "color": "#2a3f5f"
           }
          },
          "ternary": {
           "aaxis": {
            "gridcolor": "white",
            "linecolor": "white",
            "ticks": ""
           },
           "baxis": {
            "gridcolor": "white",
            "linecolor": "white",
            "ticks": ""
           },
           "bgcolor": "#E5ECF6",
           "caxis": {
            "gridcolor": "white",
            "linecolor": "white",
            "ticks": ""
           }
          },
          "title": {
           "x": 0.05
          },
          "xaxis": {
           "automargin": true,
           "gridcolor": "white",
           "linecolor": "white",
           "ticks": "",
           "title": {
            "standoff": 15
           },
           "zerolinecolor": "white",
           "zerolinewidth": 2
          },
          "yaxis": {
           "automargin": true,
           "gridcolor": "white",
           "linecolor": "white",
           "ticks": "",
           "title": {
            "standoff": 15
           },
           "zerolinecolor": "white",
           "zerolinewidth": 2
          }
         }
        },
        "title": {
         "text": "purpose of loans with loan status of Charged Off, Defaulted or Late payments."
        }
       }
      }
     },
     "metadata": {},
     "output_type": "display_data"
    }
   ],
   "source": [
    "fig = visualise.pie_chart(df_loss, 'purpose')\n",
    "fig.show('png')"
   ]
  },
  {
   "cell_type": "markdown",
   "metadata": {},
   "source": [
    "- `home_ownership`\n",
    "\n",
    "Customers who have a mortgage or pay rent are indicators for possible loss.\n",
    "\n",
    "If we look at those with already 'Charged Off' loans, the majority of customers have a mortgage or pay rent. \n",
    "\n",
    "Then if we look at those who are late on their payments and are at risk of the loan status changing to charged off, most of those customers also have a mortgage or pay rent which implies this is a factor to consider."
   ]
  },
  {
   "cell_type": "code",
   "execution_count": null,
   "metadata": {},
   "outputs": [
    {
     "data": {
      "image/png": "[encoded data removed]",
      "text/plain": [
       "<Figure size 1000x600 with 1 Axes>"
      ]
     },
     "metadata": {},
     "output_type": "display_data"
    }
   ],
   "source": [
    "plt.figure(figsize=(10, 6))\n",
    "sns.countplot(x='home_ownership', hue='loan_status', data=df_loss, order=sorted(df_loss['home_ownership'].unique()))\n",
    "plt.title('Effect of Home Ownership on Customers Not Paying')\n",
    "plt.xlabel('Home Ownership')\n",
    "plt.ylabel('Count')\n",
    "plt.show()"
   ]
  },
  {
   "cell_type": "markdown",
   "metadata": {},
   "source": [
    "- `grade`\n",
    "\n",
    "We see the same with the loan grade of B, C or D."
   ]
  },
  {
   "cell_type": "code",
   "execution_count": null,
   "metadata": {},
   "outputs": [
    {
     "data": {
      "application/vnd.plotly.v1+json": {
       "config": {
        "plotlyServerURL": "https://plot.ly"
       },
       "data": [
        {
         "domain": {
          "x": [
           0,
           1
          ],
          "y": [
           0,
           1
          ]
         },
         "hovertemplate": "grade=%{label}<br>count=%{value}<extra></extra>",
         "labels": [
          "A",
          "B",
          "C",
          "D",
          "E",
          "F",
          "G"
         ],
         "legendgroup": "",
         "name": "",
         "showlegend": true,
         "type": "pie",
         "values": [
          449,
          1465,
          1671,
          1345,
          798,
          394,
          119
         ]
        }
       ],
       "layout": {
        "legend": {
         "tracegroupgap": 0
        },
        "template": {
         "data": {
          "bar": [
           {
            "error_x": {
             "color": "#2a3f5f"
            },
            "error_y": {
             "color": "#2a3f5f"
            },
            "marker": {
             "line": {
              "color": "#E5ECF6",
              "width": 0.5
             },
             "pattern": {
              "fillmode": "overlay",
              "size": 10,
              "solidity": 0.2
             }
            },
            "type": "bar"
           }
          ],
          "barpolar": [
           {
            "marker": {
             "line": {
              "color": "#E5ECF6",
              "width": 0.5
             },
             "pattern": {
              "fillmode": "overlay",
              "size": 10,
              "solidity": 0.2
             }
            },
            "type": "barpolar"
           }
          ],
          "carpet": [
           {
            "aaxis": {
             "endlinecolor": "#2a3f5f",
             "gridcolor": "white",
             "linecolor": "white",
             "minorgridcolor": "white",
             "startlinecolor": "#2a3f5f"
            },
            "baxis": {
             "endlinecolor": "#2a3f5f",
             "gridcolor": "white",
             "linecolor": "white",
             "minorgridcolor": "white",
             "startlinecolor": "#2a3f5f"
            },
            "type": "carpet"
           }
          ],
          "choropleth": [
           {
            "colorbar": {
             "outlinewidth": 0,
             "ticks": ""
            },
            "type": "choropleth"
           }
          ],
          "contour": [
           {
            "colorbar": {
             "outlinewidth": 0,
             "ticks": ""
            },
            "colorscale": [
             [
              0,
              "#0d0887"
             ],
             [
              0.1111111111111111,
              "#46039f"
             ],
             [
              0.2222222222222222,
              "#7201a8"
             ],
             [
              0.3333333333333333,
              "#9c179e"
             ],
             [
              0.4444444444444444,
              "#bd3786"
             ],
             [
              0.5555555555555556,
              "#d8576b"
             ],
             [
              0.6666666666666666,
              "#ed7953"
             ],
             [
              0.7777777777777778,
              "#fb9f3a"
             ],
             [
              0.8888888888888888,
              "#fdca26"
             ],
             [
              1,
              "#f0f921"
             ]
            ],
            "type": "contour"
           }
          ],
          "contourcarpet": [
           {
            "colorbar": {
             "outlinewidth": 0,
             "ticks": ""
            },
            "type": "contourcarpet"
           }
          ],
          "heatmap": [
           {
            "colorbar": {
             "outlinewidth": 0,
             "ticks": ""
            },
            "colorscale": [
             [
              0,
              "#0d0887"
             ],
             [
              0.1111111111111111,
              "#46039f"
             ],
             [
              0.2222222222222222,
              "#7201a8"
             ],
             [
              0.3333333333333333,
              "#9c179e"
             ],
             [
              0.4444444444444444,
              "#bd3786"
             ],
             [
              0.5555555555555556,
              "#d8576b"
             ],
             [
              0.6666666666666666,
              "#ed7953"
             ],
             [
              0.7777777777777778,
              "#fb9f3a"
             ],
             [
              0.8888888888888888,
              "#fdca26"
             ],
             [
              1,
              "#f0f921"
             ]
            ],
            "type": "heatmap"
           }
          ],
          "heatmapgl": [
           {
            "colorbar": {
             "outlinewidth": 0,
             "ticks": ""
            },
            "colorscale": [
             [
              0,
              "#0d0887"
             ],
             [
              0.1111111111111111,
              "#46039f"
             ],
             [
              0.2222222222222222,
              "#7201a8"
             ],
             [
              0.3333333333333333,
              "#9c179e"
             ],
             [
              0.4444444444444444,
              "#bd3786"
             ],
             [
              0.5555555555555556,
              "#d8576b"
             ],
             [
              0.6666666666666666,
              "#ed7953"
             ],
             [
              0.7777777777777778,
              "#fb9f3a"
             ],
             [
              0.8888888888888888,
              "#fdca26"
             ],
             [
              1,
              "#f0f921"
             ]
            ],
            "type": "heatmapgl"
           }
          ],
          "histogram": [
           {
            "marker": {
             "pattern": {
              "fillmode": "overlay",
              "size": 10,
              "solidity": 0.2
             }
            },
            "type": "histogram"
           }
          ],
          "histogram2d": [
           {
            "colorbar": {
             "outlinewidth": 0,
             "ticks": ""
            },
            "colorscale": [
             [
              0,
              "#0d0887"
             ],
             [
              0.1111111111111111,
              "#46039f"
             ],
             [
              0.2222222222222222,
              "#7201a8"
             ],
             [
              0.3333333333333333,
              "#9c179e"
             ],
             [
              0.4444444444444444,
              "#bd3786"
             ],
             [
              0.5555555555555556,
              "#d8576b"
             ],
             [
              0.6666666666666666,
              "#ed7953"
             ],
             [
              0.7777777777777778,
              "#fb9f3a"
             ],
             [
              0.8888888888888888,
              "#fdca26"
             ],
             [
              1,
              "#f0f921"
             ]
            ],
            "type": "histogram2d"
           }
          ],
          "histogram2dcontour": [
           {
            "colorbar": {
             "outlinewidth": 0,
             "ticks": ""
            },
            "colorscale": [
             [
              0,
              "#0d0887"
             ],
             [
              0.1111111111111111,
              "#46039f"
             ],
             [
              0.2222222222222222,
              "#7201a8"
             ],
             [
              0.3333333333333333,
              "#9c179e"
             ],
             [
              0.4444444444444444,
              "#bd3786"
             ],
             [
              0.5555555555555556,
              "#d8576b"
             ],
             [
              0.6666666666666666,
              "#ed7953"
             ],
             [
              0.7777777777777778,
              "#fb9f3a"
             ],
             [
              0.8888888888888888,
              "#fdca26"
             ],
             [
              1,
              "#f0f921"
             ]
            ],
            "type": "histogram2dcontour"
           }
          ],
          "mesh3d": [
           {
            "colorbar": {
             "outlinewidth": 0,
             "ticks": ""
            },
            "type": "mesh3d"
           }
          ],
          "parcoords": [
           {
            "line": {
             "colorbar": {
              "outlinewidth": 0,
              "ticks": ""
             }
            },
            "type": "parcoords"
           }
          ],
          "pie": [
           {
            "automargin": true,
            "type": "pie"
           }
          ],
          "scatter": [
           {
            "fillpattern": {
             "fillmode": "overlay",
             "size": 10,
             "solidity": 0.2
            },
            "type": "scatter"
           }
          ],
          "scatter3d": [
           {
            "line": {
             "colorbar": {
              "outlinewidth": 0,
              "ticks": ""
             }
            },
            "marker": {
             "colorbar": {
              "outlinewidth": 0,
              "ticks": ""
             }
            },
            "type": "scatter3d"
           }
          ],
          "scattercarpet": [
           {
            "marker": {
             "colorbar": {
              "outlinewidth": 0,
              "ticks": ""
             }
            },
            "type": "scattercarpet"
           }
          ],
          "scattergeo": [
           {
            "marker": {
             "colorbar": {
              "outlinewidth": 0,
              "ticks": ""
             }
            },
            "type": "scattergeo"
           }
          ],
          "scattergl": [
           {
            "marker": {
             "colorbar": {
              "outlinewidth": 0,
              "ticks": ""
             }
            },
            "type": "scattergl"
           }
          ],
          "scattermapbox": [
           {
            "marker": {
             "colorbar": {
              "outlinewidth": 0,
              "ticks": ""
             }
            },
            "type": "scattermapbox"
           }
          ],
          "scatterpolar": [
           {
            "marker": {
             "colorbar": {
              "outlinewidth": 0,
              "ticks": ""
             }
            },
            "type": "scatterpolar"
           }
          ],
          "scatterpolargl": [
           {
            "marker": {
             "colorbar": {
              "outlinewidth": 0,
              "ticks": ""
             }
            },
            "type": "scatterpolargl"
           }
          ],
          "scatterternary": [
           {
            "marker": {
             "colorbar": {
              "outlinewidth": 0,
              "ticks": ""
             }
            },
            "type": "scatterternary"
           }
          ],
          "surface": [
           {
            "colorbar": {
             "outlinewidth": 0,
             "ticks": ""
            },
            "colorscale": [
             [
              0,
              "#0d0887"
             ],
             [
              0.1111111111111111,
              "#46039f"
             ],
             [
              0.2222222222222222,
              "#7201a8"
             ],
             [
              0.3333333333333333,
              "#9c179e"
             ],
             [
              0.4444444444444444,
              "#bd3786"
             ],
             [
              0.5555555555555556,
              "#d8576b"
             ],
             [
              0.6666666666666666,
              "#ed7953"
             ],
             [
              0.7777777777777778,
              "#fb9f3a"
             ],
             [
              0.8888888888888888,
              "#fdca26"
             ],
             [
              1,
              "#f0f921"
             ]
            ],
            "type": "surface"
           }
          ],
          "table": [
           {
            "cells": {
             "fill": {
              "color": "#EBF0F8"
             },
             "line": {
              "color": "white"
             }
            },
            "header": {
             "fill": {
              "color": "#C8D4E3"
             },
             "line": {
              "color": "white"
             }
            },
            "type": "table"
           }
          ]
         },
         "layout": {
          "annotationdefaults": {
           "arrowcolor": "#2a3f5f",
           "arrowhead": 0,
           "arrowwidth": 1
          },
          "autotypenumbers": "strict",
          "coloraxis": {
           "colorbar": {
            "outlinewidth": 0,
            "ticks": ""
           }
          },
          "colorscale": {
           "diverging": [
            [
             0,
             "#8e0152"
            ],
            [
             0.1,
             "#c51b7d"
            ],
            [
             0.2,
             "#de77ae"
            ],
            [
             0.3,
             "#f1b6da"
            ],
            [
             0.4,
             "#fde0ef"
            ],
            [
             0.5,
             "#f7f7f7"
            ],
            [
             0.6,
             "#e6f5d0"
            ],
            [
             0.7,
             "#b8e186"
            ],
            [
             0.8,
             "#7fbc41"
            ],
            [
             0.9,
             "#4d9221"
            ],
            [
             1,
             "#276419"
            ]
           ],
           "sequential": [
            [
             0,
             "#0d0887"
            ],
            [
             0.1111111111111111,
             "#46039f"
            ],
            [
             0.2222222222222222,
             "#7201a8"
            ],
            [
             0.3333333333333333,
             "#9c179e"
            ],
            [
             0.4444444444444444,
             "#bd3786"
            ],
            [
             0.5555555555555556,
             "#d8576b"
            ],
            [
             0.6666666666666666,
             "#ed7953"
            ],
            [
             0.7777777777777778,
             "#fb9f3a"
            ],
            [
             0.8888888888888888,
             "#fdca26"
            ],
            [
             1,
             "#f0f921"
            ]
           ],
           "sequentialminus": [
            [
             0,
             "#0d0887"
            ],
            [
             0.1111111111111111,
             "#46039f"
            ],
            [
             0.2222222222222222,
             "#7201a8"
            ],
            [
             0.3333333333333333,
             "#9c179e"
            ],
            [
             0.4444444444444444,
             "#bd3786"
            ],
            [
             0.5555555555555556,
             "#d8576b"
            ],
            [
             0.6666666666666666,
             "#ed7953"
            ],
            [
             0.7777777777777778,
             "#fb9f3a"
            ],
            [
             0.8888888888888888,
             "#fdca26"
            ],
            [
             1,
             "#f0f921"
            ]
           ]
          },
          "colorway": [
           "#636efa",
           "#EF553B",
           "#00cc96",
           "#ab63fa",
           "#FFA15A",
           "#19d3f3",
           "#FF6692",
           "#B6E880",
           "#FF97FF",
           "#FECB52"
          ],
          "font": {
           "color": "#2a3f5f"
          },
          "geo": {
           "bgcolor": "white",
           "lakecolor": "white",
           "landcolor": "#E5ECF6",
           "showlakes": true,
           "showland": true,
           "subunitcolor": "white"
          },
          "hoverlabel": {
           "align": "left"
          },
          "hovermode": "closest",
          "mapbox": {
           "style": "light"
          },
          "paper_bgcolor": "white",
          "plot_bgcolor": "#E5ECF6",
          "polar": {
           "angularaxis": {
            "gridcolor": "white",
            "linecolor": "white",
            "ticks": ""
           },
           "bgcolor": "#E5ECF6",
           "radialaxis": {
            "gridcolor": "white",
            "linecolor": "white",
            "ticks": ""
           }
          },
          "scene": {
           "xaxis": {
            "backgroundcolor": "#E5ECF6",
            "gridcolor": "white",
            "gridwidth": 2,
            "linecolor": "white",
            "showbackground": true,
            "ticks": "",
            "zerolinecolor": "white"
           },
           "yaxis": {
            "backgroundcolor": "#E5ECF6",
            "gridcolor": "white",
            "gridwidth": 2,
            "linecolor": "white",
            "showbackground": true,
            "ticks": "",
            "zerolinecolor": "white"
           },
           "zaxis": {
            "backgroundcolor": "#E5ECF6",
            "gridcolor": "white",
            "gridwidth": 2,
            "linecolor": "white",
            "showbackground": true,
            "ticks": "",
            "zerolinecolor": "white"
           }
          },
          "shapedefaults": {
           "line": {
            "color": "#2a3f5f"
           }
          },
          "ternary": {
           "aaxis": {
            "gridcolor": "white",
            "linecolor": "white",
            "ticks": ""
           },
           "baxis": {
            "gridcolor": "white",
            "linecolor": "white",
            "ticks": ""
           },
           "bgcolor": "#E5ECF6",
           "caxis": {
            "gridcolor": "white",
            "linecolor": "white",
            "ticks": ""
           }
          },
          "title": {
           "x": 0.05
          },
          "xaxis": {
           "automargin": true,
           "gridcolor": "white",
           "linecolor": "white",
           "ticks": "",
           "title": {
            "standoff": 15
           },
           "zerolinecolor": "white",
           "zerolinewidth": 2
          },
          "yaxis": {
           "automargin": true,
           "gridcolor": "white",
           "linecolor": "white",
           "ticks": "",
           "title": {
            "standoff": 15
           },
           "zerolinecolor": "white",
           "zerolinewidth": 2
          }
         }
        },
        "title": {
         "text": "Grades of loans with Charged Off, Defaulted or Late status"
        }
       }
      }
     },
     "metadata": {},
     "output_type": "display_data"
    }
   ],
   "source": [
    "import plotly.express as px\n",
    "\n",
    "grade_data = df_loss.groupby(['grade'])['grade'].count().reset_index(name='count')\n",
    "\n",
    "fig = px.pie(grade_data, values='count', names='grade', title='Grades of loans with Charged Off, Defaulted or Late status')\n",
    "fig.show()"
   ]
  },
  {
   "cell_type": "code",
   "execution_count": null,
   "metadata": {},
   "outputs": [
    {
     "data": {
      "text/plain": [
       "Text(0, 0.5, 'Count')"
      ]
     },
     "execution_count": 144,
     "metadata": {},
     "output_type": "execute_result"
    },
    {
     "data": {
      "image/png": "[encoded data removed]",
      "text/plain": [
       "<Figure size 1000x600 with 1 Axes>"
      ]
     },
     "metadata": {},
     "output_type": "display_data"
    }
   ],
   "source": [
    "plt.figure(figsize=(10, 6))\n",
    "sns.countplot(x='grade', hue='loan_status', data=df_loss, order=sorted(df_loss['grade'].unique()))\n",
    "plt.title('Effect of Loan Grade on Customers Not Paying')\n",
    "plt.xlabel('Loan Grade')\n",
    "plt.ylabel('Count')"
   ]
  }
 ],
 "metadata": {
  "kernelspec": {
   "display_name": "postgres_env",
   "language": "python",
   "name": "python3"
  },
  "language_info": {
   "codemirror_mode": {
    "name": "ipython",
    "version": 3
   },
   "file_extension": ".py",
   "mimetype": "text/x-python",
   "name": "python",
   "nbconvert_exporter": "python",
   "pygments_lexer": "ipython3",
   "version": "3.10.13"
  }
 },
 "nbformat": 4,
 "nbformat_minor": 2
}
